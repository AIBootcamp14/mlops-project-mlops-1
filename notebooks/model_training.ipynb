{
 "cells": [
  {
   "cell_type": "code",
   "execution_count": null,
   "id": "f866f336",
   "metadata": {},
   "outputs": [],
   "source": [
    "import pandas as pd\n",
    "import re\n",
    "from nltk.stem.porter import PorterStemmer\n",
    "from sklearn.model_selection import train_test_split\n",
    "from sklearn.feature_extraction.text import TfidfVectorizer\n",
    "from sklearn.naive_bayes import MultinomialNB\n",
    "from sklearn.metrics import accuracy_score\n",
    "import joblib # 모델 저장/로드\n",
    "import matplotlib.pyplot as plt # 시각화\n",
    "from sklearn.metrics import confusion_matrix, ConfusionMatrixDisplay # 혼동 행렬\n"
   ]
  },
  {
   "cell_type": "code",
   "execution_count": null,
   "id": "2659b261",
   "metadata": {},
   "outputs": [],
   "source": [
    "# 데이터 로딩 및 초기 컬럼 처리\n",
    "\n",
    "#데이터셋 로드 (인코딩 자동 감지 시도)\n",
    "try:\n",
    "    df = pd.read_csv('data/spam.csv', encoding='utf-8')\n",
    "except UnicodeDecodeError:\n",
    "    df = pd.read_csv('data/spam.csv', encoding='latin-1')\n",
    "\n",
    "# 불필요한 컬럼 제거 및 필요한 컬럼만 유지\n",
    "if 'Unnamed: 0' in df.columns:\n",
    "    df = df[['target', 'text']].copy()\n",
    "else:\n",
    "    df = df[['target', 'text']].copy() # 'target', 'text' 컬럼만 가정\n",
    "\n",
    "# 데이터 미리보기 및 정보 확인\n",
    "display(df.head())\n",
    "display(df.info())\n"
   ]
  },
  {
   "cell_type": "code",
   "execution_count": null,
   "id": "f4045c26",
   "metadata": {},
   "outputs": [],
   "source": [
    "# 타겟 값 매핑 및 결측치/타입 처리\n",
    "\n",
    "# 타겟 값 매핑 ('ham':0, 'spam':1)\n",
    "df['target'] = df['target'].map({'ham': 0, 'spam': 1}).fillna(df['target'])\n",
    "\n",
    "# 매핑 실패 또는 NaN 값 행 제거\n",
    "df.dropna(subset=['target'], inplace=True)\n",
    "\n",
    "# 타겟 컬럼 정수형으로 변환\n",
    "df['target'] = df['target'].astype(int)\n",
    "\n",
    "# 컬럼 확인\n",
    "display(df.columns)\n"
   ]
  },
  {
   "cell_type": "code",
   "execution_count": null,
   "id": "20c819f6",
   "metadata": {},
   "outputs": [],
   "source": [
    "# 텍스트 전처리 함수 정의 및 적용\n",
    "\n",
    "# 어간 추출기 초기화\n",
    "stemmer = PorterStemmer()\n",
    "\n",
    "# 텍스트 전처리 함수\n",
    "def preprocess_text(text):\n",
    "    if not isinstance(text, str): # 문자열이 아니면 빈 문자열 반환\n",
    "        return \"\"\n",
    "    text = text.lower() # 소문자 변환\n",
    "    text = re.sub(r'[^a-z]', ' ', text) # 알파벳 외 제거\n",
    "    text = text.split() # 단어 분리\n",
    "    text = [stemmer.stem(word) for word in text] # 어간 추출\n",
    "    return ' '.join(text)\n",
    "\n",
    "# 전처리 함수 적용하여 새 컬럼 생성\n",
    "df['processed_text'] = df['text'].apply(preprocess_text)\n",
    "\n",
    "# 전처리된 데이터 미리보기\n",
    "display(df.head())\n",
    "\n",
    "\n"
   ]
  },
  {
   "cell_type": "code",
   "execution_count": null,
   "id": "8adb318c",
   "metadata": {},
   "outputs": [],
   "source": [
    "# 데이터 분할 및 TF-IDF 벡터화\n",
    "\n",
    "# 필요한 컬럼만 복사\n",
    "df_processed = df[['target', 'processed_text']].copy()\n",
    "\n",
    "# 타겟 결측치 행 제거 (견고성을 위해 다시 포함)\n",
    "df_processed.dropna(subset=['target'], inplace=True)\n",
    "\n",
    "# 학습/테스트 데이터 분할 (75:25)\n",
    "X_train, X_test, y_train, y_test = train_test_split(df_processed['processed_text'], df_processed['target'], test_size=0.25, random_state=42)\n",
    "\n",
    "# TF-IDF 벡터라이저 초기화\n",
    "tfidf_vectorizer = TfidfVectorizer()\n",
    "\n",
    "# 학습 데이터에 TF-IDF 적용 및 변환\n",
    "X_train_tfidf = tfidf_vectorizer.fit_transform(X_train)\n",
    "\n",
    "# 테스트 데이터 변환\n",
    "X_test_tfidf = tfidf_vectorizer.transform(X_test)\n",
    "\n",
    "# 데이터셋 형태 출력\n",
    "print(\"X_train_tfidf 형태:\", X_train_tfidf.shape)\n",
    "print(\"X_test_tfidf 형태:\", X_test_tfidf.shape)\n",
    "print(\"y_train 형태:\", y_train.shape)\n",
    "print(\"y_test 형태:\", y_test.shape)"
   ]
  },
  {
   "cell_type": "code",
   "execution_count": null,
   "id": "9049f5aa",
   "metadata": {},
   "outputs": [],
   "source": [
    "# 모델 학습\n",
    "\n",
    "# Multinomial Naive Bayes 모델 초기화\n",
    "nb_model = MultinomialNB()\n",
    "\n",
    "# 모델 학습\n",
    "nb_model.fit(X_train_tfidf, y_train)\n",
    "\n",
    "print(\"모델 학습 완료!\")"
   ]
  },
  {
   "cell_type": "code",
   "execution_count": null,
   "id": "8932c36b",
   "metadata": {},
   "outputs": [],
   "source": [
    "# 모델 평가\n",
    "\n",
    "# 테스트 데이터 예측\n",
    "y_pred = nb_model.predict(X_test_tfidf)\n",
    "\n",
    "# 정확도 계산 및 출력\n",
    "accuracy = accuracy_score(y_test, y_pred)\n",
    "print(f\"모델 정확도: {accuracy:.4f}\")\n",
    "\n",
    "# 추가 평가 지표 계산 및 출력\n",
    "precision = precision_score(y_test, y_pred)\n",
    "recall = recall_score(y_test, y_pred)\n",
    "f1 = f1_score(y_test, y_pred)\n",
    "print(f\"정밀도 (Precision): {precision:.4f}\")\n",
    "print(f\"재현율 (Recall): {recall:.4f}\")\n",
    "print(f\"F1 점수 (F1 Score): {f1:.4f}\")\n",
    "\n",
    "# 혼동 행렬 시각화\n",
    "cm = confusion_matrix(y_test, y_pred)\n",
    "disp = ConfusionMatrixDisplay.from_predictions(y_test, y_pred, cmap='Blues')\n",
    "disp.ax_.set_title('혼동 행렬')\n",
    "plt.show()"
   ]
  },
  {
   "cell_type": "code",
   "execution_count": null,
   "id": "96497695",
   "metadata": {},
   "outputs": [],
   "source": [
    "# 모델과 벡터라이저 저장\n",
    "\n",
    "# 학습된 모델 저장\n",
    "joblib.dump(nb_model, 'models/spam_classifier_model.joblib')\n",
    "\n",
    "# TF-IDF 벡터라이저 저장\n",
    "joblib.dump(tfidf_vectorizer, 'models/tfidf_vectorizer.joblib')\n",
    "\n",
    "print(\"모델과 TF-IDF 벡터라이저가 'models/' 폴더에 성공적으로 저장되었습니다.\")\n"
   ]
  },
  {
   "cell_type": "code",
   "execution_count": null,
   "id": "b4686d31",
   "metadata": {},
   "outputs": [],
   "source": []
  }
 ],
 "metadata": {
  "language_info": {
   "name": "python"
  }
 },
 "nbformat": 4,
 "nbformat_minor": 5
}
